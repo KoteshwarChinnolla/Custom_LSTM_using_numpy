{
 "cells": [
  {
   "cell_type": "markdown",
   "metadata": {},
   "source": [
    "Before understanding LSTM lets look at the RNN's\n",
    "\n",
    "RNN's are used when we are prosessing time series datasets\n",
    "\n",
    "![LSTM](images\\lstn.png)\n",
    "\n",
    "![lstm basic](images\\Lstm-Basic.png)\n",
    "\n",
    "![lstm basic](images\\forget_gate.png)\n",
    "\n",
    "![lstm basic](images\\input_gate.png)\n",
    "\n",
    "![lstm basic](images\\output_gate.png)"
   ]
  },
  {
   "cell_type": "code",
   "execution_count": null,
   "metadata": {},
   "outputs": [],
   "source": []
  }
 ],
 "metadata": {
  "kernelspec": {
   "display_name": "base",
   "language": "python",
   "name": "python3"
  },
  "language_info": {
   "name": "python",
   "version": "3.9.12"
  }
 },
 "nbformat": 4,
 "nbformat_minor": 2
}
